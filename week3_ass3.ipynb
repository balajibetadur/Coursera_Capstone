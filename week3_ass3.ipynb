{
 "cells": [
  {
   "cell_type": "markdown",
   "metadata": {},
   "source": [
    "# IBM Applied Data Science Capstone Course by Coursera\n",
    "### Week 3 Part 1, 2 and 3\n",
    "- Build a dataframe of the postal code of each neighborhood along with the borough name and neighborhood name in Toronto.\n",
    "- Get the geographical coordinates of the neighborhoods in Toronto.\n",
    "- Explore and cluster the neighborhoods in Toronto (replicate the same analysis we did to New York City data).\n",
    "***\n",
    "### 1. Import libraries"
   ]
  },
  {
   "cell_type": "code",
   "execution_count": 1,
   "metadata": {},
   "outputs": [
    {
     "name": "stdout",
     "output_type": "stream",
     "text": [
      "Libraries imported.\n"
     ]
    }
   ],
   "source": [
    "import numpy as np # library to handle data in a vectorized manner\n",
    "\n",
    "import pandas as pd # library for data analsysis\n",
    "pd.set_option(\"display.max_columns\", None)\n",
    "pd.set_option(\"display.max_rows\", None)\n",
    "\n",
    "import json # library to handle JSON files\n",
    "\n",
    "from geopy.geocoders import Nominatim # convert an address into latitude and longitude values\n",
    "\n",
    "import requests # library to handle requests\n",
    "from bs4 import BeautifulSoup # library to parse HTML and XML documents\n",
    "\n",
    "from pandas.io.json import json_normalize # tranform JSON file into a pandas dataframe\n",
    "\n",
    "# Matplotlib and associated plotting modules\n",
    "import matplotlib.cm as cm\n",
    "import matplotlib.colors as colors\n",
    "\n",
    "# import k-means from clustering stage\n",
    "from sklearn.cluster import KMeans\n",
    "\n",
    "import folium # map rendering library\n",
    "\n",
    "print(\"Libraries imported.\")"
   ]
  },
  {
   "cell_type": "markdown",
   "metadata": {},
   "source": [
    "### 2. Scrap data from Wikipedia page into a DataFrame"
   ]
  },
  {
   "cell_type": "code",
   "execution_count": 2,
   "metadata": {},
   "outputs": [],
   "source": [
    "# send the GET request\n",
    "data = requests.get('https://en.wikipedia.org/wiki/List_of_postal_codes_of_Canada:_M').text"
   ]
  },
  {
   "cell_type": "code",
   "execution_count": 3,
   "metadata": {},
   "outputs": [],
   "source": [
    "# parse data from the html into a beautifulsoup object\n",
    "soup = BeautifulSoup(data, 'html.parser')"
   ]
  },
  {
   "cell_type": "code",
   "execution_count": 4,
   "metadata": {},
   "outputs": [],
   "source": [
    "# create three lists to store table data\n",
    "postalCodeList = []\n",
    "boroughList = []\n",
    "neighborhoodList = []"
   ]
  },
  {
   "cell_type": "markdown",
   "metadata": {},
   "source": [
    "**Using BeautifulSoup**\n",
    "\n",
    "```python\n",
    "# find the table\n",
    "soup.find('table').find_all('tr')\n",
    "\n",
    "# find all the rows of the table\n",
    "soup.find('table').find_all('tr')\n",
    "\n",
    "# for each row of the table, find all the table data\n",
    "for row in soup.find('table').find_all('tr'):\n",
    "    cells = row.find_all('td')\n",
    "```"
   ]
  },
  {
   "cell_type": "code",
   "execution_count": 5,
   "metadata": {},
   "outputs": [],
   "source": [
    "# append the data into the respective lists\n",
    "for row in soup.find('table').find_all('tr'):\n",
    "    cells = row.find_all('td')\n",
    "    if(len(cells) > 0):\n",
    "        postalCodeList.append(cells[0].text)\n",
    "        boroughList.append(cells[1].text)\n",
    "        neighborhoodList.append(cells[2].text.rstrip('\\n')) # avoid new lines in neighborhood cell"
   ]
  },
  {
   "cell_type": "code",
   "execution_count": 17,
   "metadata": {},
   "outputs": [],
   "source": [
    "for i in range(len(postalCodeList)):\n",
    "    postalCodeList[i]=postalCodeList[i].replace('\\n',\"\")\n",
    "#     print(i)\n",
    "# postalCodeList\n",
    "for i in range(len(boroughList)):\n",
    "    boroughList[i]=boroughList[i].replace('\\n',\"\")\n",
    "#     print(i)\n",
    "# postalCodeList"
   ]
  },
  {
   "cell_type": "code",
   "execution_count": 18,
   "metadata": {},
   "outputs": [
    {
     "data": {
      "text/html": [
       "<div>\n",
       "<style scoped>\n",
       "    .dataframe tbody tr th:only-of-type {\n",
       "        vertical-align: middle;\n",
       "    }\n",
       "\n",
       "    .dataframe tbody tr th {\n",
       "        vertical-align: top;\n",
       "    }\n",
       "\n",
       "    .dataframe thead th {\n",
       "        text-align: right;\n",
       "    }\n",
       "</style>\n",
       "<table border=\"1\" class=\"dataframe\">\n",
       "  <thead>\n",
       "    <tr style=\"text-align: right;\">\n",
       "      <th></th>\n",
       "      <th>PostalCode</th>\n",
       "      <th>Borough</th>\n",
       "      <th>Neighborhood</th>\n",
       "    </tr>\n",
       "  </thead>\n",
       "  <tbody>\n",
       "    <tr>\n",
       "      <th>0</th>\n",
       "      <td>M1A</td>\n",
       "      <td>Not assigned</td>\n",
       "      <td></td>\n",
       "    </tr>\n",
       "    <tr>\n",
       "      <th>1</th>\n",
       "      <td>M2A</td>\n",
       "      <td>Not assigned</td>\n",
       "      <td></td>\n",
       "    </tr>\n",
       "    <tr>\n",
       "      <th>2</th>\n",
       "      <td>M3A</td>\n",
       "      <td>North York</td>\n",
       "      <td>Parkwoods</td>\n",
       "    </tr>\n",
       "    <tr>\n",
       "      <th>3</th>\n",
       "      <td>M4A</td>\n",
       "      <td>North York</td>\n",
       "      <td>Victoria Village</td>\n",
       "    </tr>\n",
       "    <tr>\n",
       "      <th>4</th>\n",
       "      <td>M5A</td>\n",
       "      <td>Downtown Toronto</td>\n",
       "      <td>Regent Park / Harbourfront</td>\n",
       "    </tr>\n",
       "  </tbody>\n",
       "</table>\n",
       "</div>"
      ],
      "text/plain": [
       "  PostalCode           Borough                Neighborhood\n",
       "0        M1A      Not assigned                            \n",
       "1        M2A      Not assigned                            \n",
       "2        M3A        North York                   Parkwoods\n",
       "3        M4A        North York            Victoria Village\n",
       "4        M5A  Downtown Toronto  Regent Park / Harbourfront"
      ]
     },
     "execution_count": 18,
     "metadata": {},
     "output_type": "execute_result"
    }
   ],
   "source": [
    "# create a new DataFrame from the three lists\n",
    "toronto_df = pd.DataFrame({\"PostalCode\": postalCodeList,\n",
    "                           \"Borough\": boroughList,\n",
    "                           \"Neighborhood\": neighborhoodList})\n",
    "\n",
    "toronto_df.head()"
   ]
  },
  {
   "cell_type": "markdown",
   "metadata": {},
   "source": [
    "### 3. Drop cells with a borough that is \"Not assigned\""
   ]
  },
  {
   "cell_type": "code",
   "execution_count": 19,
   "metadata": {},
   "outputs": [
    {
     "data": {
      "text/html": [
       "<div>\n",
       "<style scoped>\n",
       "    .dataframe tbody tr th:only-of-type {\n",
       "        vertical-align: middle;\n",
       "    }\n",
       "\n",
       "    .dataframe tbody tr th {\n",
       "        vertical-align: top;\n",
       "    }\n",
       "\n",
       "    .dataframe thead th {\n",
       "        text-align: right;\n",
       "    }\n",
       "</style>\n",
       "<table border=\"1\" class=\"dataframe\">\n",
       "  <thead>\n",
       "    <tr style=\"text-align: right;\">\n",
       "      <th></th>\n",
       "      <th>PostalCode</th>\n",
       "      <th>Borough</th>\n",
       "      <th>Neighborhood</th>\n",
       "    </tr>\n",
       "  </thead>\n",
       "  <tbody>\n",
       "    <tr>\n",
       "      <th>0</th>\n",
       "      <td>M3A</td>\n",
       "      <td>North York</td>\n",
       "      <td>Parkwoods</td>\n",
       "    </tr>\n",
       "    <tr>\n",
       "      <th>1</th>\n",
       "      <td>M4A</td>\n",
       "      <td>North York</td>\n",
       "      <td>Victoria Village</td>\n",
       "    </tr>\n",
       "    <tr>\n",
       "      <th>2</th>\n",
       "      <td>M5A</td>\n",
       "      <td>Downtown Toronto</td>\n",
       "      <td>Regent Park / Harbourfront</td>\n",
       "    </tr>\n",
       "    <tr>\n",
       "      <th>3</th>\n",
       "      <td>M6A</td>\n",
       "      <td>North York</td>\n",
       "      <td>Lawrence Manor / Lawrence Heights</td>\n",
       "    </tr>\n",
       "    <tr>\n",
       "      <th>4</th>\n",
       "      <td>M7A</td>\n",
       "      <td>Downtown Toronto</td>\n",
       "      <td>Queen's Park / Ontario Provincial Government</td>\n",
       "    </tr>\n",
       "  </tbody>\n",
       "</table>\n",
       "</div>"
      ],
      "text/plain": [
       "  PostalCode           Borough                                  Neighborhood\n",
       "0        M3A        North York                                     Parkwoods\n",
       "1        M4A        North York                              Victoria Village\n",
       "2        M5A  Downtown Toronto                    Regent Park / Harbourfront\n",
       "3        M6A        North York             Lawrence Manor / Lawrence Heights\n",
       "4        M7A  Downtown Toronto  Queen's Park / Ontario Provincial Government"
      ]
     },
     "execution_count": 19,
     "metadata": {},
     "output_type": "execute_result"
    }
   ],
   "source": [
    "# drop cells with a borough that is Not assigned\n",
    "toronto_df_dropna = toronto_df[toronto_df.Borough != \"Not assigned\"].reset_index(drop=True)\n",
    "toronto_df_dropna.head()"
   ]
  },
  {
   "cell_type": "markdown",
   "metadata": {},
   "source": [
    "### 4. Group neighborhoods in the same borough\n"
   ]
  },
  {
   "cell_type": "code",
   "execution_count": 20,
   "metadata": {},
   "outputs": [
    {
     "data": {
      "text/html": [
       "<div>\n",
       "<style scoped>\n",
       "    .dataframe tbody tr th:only-of-type {\n",
       "        vertical-align: middle;\n",
       "    }\n",
       "\n",
       "    .dataframe tbody tr th {\n",
       "        vertical-align: top;\n",
       "    }\n",
       "\n",
       "    .dataframe thead th {\n",
       "        text-align: right;\n",
       "    }\n",
       "</style>\n",
       "<table border=\"1\" class=\"dataframe\">\n",
       "  <thead>\n",
       "    <tr style=\"text-align: right;\">\n",
       "      <th></th>\n",
       "      <th>PostalCode</th>\n",
       "      <th>Borough</th>\n",
       "      <th>Neighborhood</th>\n",
       "    </tr>\n",
       "  </thead>\n",
       "  <tbody>\n",
       "    <tr>\n",
       "      <th>0</th>\n",
       "      <td>M1B</td>\n",
       "      <td>Scarborough</td>\n",
       "      <td>Malvern / Rouge</td>\n",
       "    </tr>\n",
       "    <tr>\n",
       "      <th>1</th>\n",
       "      <td>M1C</td>\n",
       "      <td>Scarborough</td>\n",
       "      <td>Rouge Hill / Port Union / Highland Creek</td>\n",
       "    </tr>\n",
       "    <tr>\n",
       "      <th>2</th>\n",
       "      <td>M1E</td>\n",
       "      <td>Scarborough</td>\n",
       "      <td>Guildwood / Morningside / West Hill</td>\n",
       "    </tr>\n",
       "    <tr>\n",
       "      <th>3</th>\n",
       "      <td>M1G</td>\n",
       "      <td>Scarborough</td>\n",
       "      <td>Woburn</td>\n",
       "    </tr>\n",
       "    <tr>\n",
       "      <th>4</th>\n",
       "      <td>M1H</td>\n",
       "      <td>Scarborough</td>\n",
       "      <td>Cedarbrae</td>\n",
       "    </tr>\n",
       "  </tbody>\n",
       "</table>\n",
       "</div>"
      ],
      "text/plain": [
       "  PostalCode      Borough                              Neighborhood\n",
       "0        M1B  Scarborough                           Malvern / Rouge\n",
       "1        M1C  Scarborough  Rouge Hill / Port Union / Highland Creek\n",
       "2        M1E  Scarborough       Guildwood / Morningside / West Hill\n",
       "3        M1G  Scarborough                                    Woburn\n",
       "4        M1H  Scarborough                                 Cedarbrae"
      ]
     },
     "execution_count": 20,
     "metadata": {},
     "output_type": "execute_result"
    }
   ],
   "source": [
    "# group neighborhoods in the same borough\n",
    "toronto_df_grouped = toronto_df_dropna.groupby([\"PostalCode\", \"Borough\"], as_index=False).agg(lambda x: \", \".join(x))\n",
    "toronto_df_grouped.head()"
   ]
  },
  {
   "cell_type": "markdown",
   "metadata": {},
   "source": [
    "### 5. For Neighborhood=\"Not assigned\", make the value the same as Borough"
   ]
  },
  {
   "cell_type": "code",
   "execution_count": 21,
   "metadata": {},
   "outputs": [
    {
     "data": {
      "text/html": [
       "<div>\n",
       "<style scoped>\n",
       "    .dataframe tbody tr th:only-of-type {\n",
       "        vertical-align: middle;\n",
       "    }\n",
       "\n",
       "    .dataframe tbody tr th {\n",
       "        vertical-align: top;\n",
       "    }\n",
       "\n",
       "    .dataframe thead th {\n",
       "        text-align: right;\n",
       "    }\n",
       "</style>\n",
       "<table border=\"1\" class=\"dataframe\">\n",
       "  <thead>\n",
       "    <tr style=\"text-align: right;\">\n",
       "      <th></th>\n",
       "      <th>PostalCode</th>\n",
       "      <th>Borough</th>\n",
       "      <th>Neighborhood</th>\n",
       "    </tr>\n",
       "  </thead>\n",
       "  <tbody>\n",
       "    <tr>\n",
       "      <th>0</th>\n",
       "      <td>M1B</td>\n",
       "      <td>Scarborough</td>\n",
       "      <td>Malvern / Rouge</td>\n",
       "    </tr>\n",
       "    <tr>\n",
       "      <th>1</th>\n",
       "      <td>M1C</td>\n",
       "      <td>Scarborough</td>\n",
       "      <td>Rouge Hill / Port Union / Highland Creek</td>\n",
       "    </tr>\n",
       "    <tr>\n",
       "      <th>2</th>\n",
       "      <td>M1E</td>\n",
       "      <td>Scarborough</td>\n",
       "      <td>Guildwood / Morningside / West Hill</td>\n",
       "    </tr>\n",
       "    <tr>\n",
       "      <th>3</th>\n",
       "      <td>M1G</td>\n",
       "      <td>Scarborough</td>\n",
       "      <td>Woburn</td>\n",
       "    </tr>\n",
       "    <tr>\n",
       "      <th>4</th>\n",
       "      <td>M1H</td>\n",
       "      <td>Scarborough</td>\n",
       "      <td>Cedarbrae</td>\n",
       "    </tr>\n",
       "  </tbody>\n",
       "</table>\n",
       "</div>"
      ],
      "text/plain": [
       "  PostalCode      Borough                              Neighborhood\n",
       "0        M1B  Scarborough                           Malvern / Rouge\n",
       "1        M1C  Scarborough  Rouge Hill / Port Union / Highland Creek\n",
       "2        M1E  Scarborough       Guildwood / Morningside / West Hill\n",
       "3        M1G  Scarborough                                    Woburn\n",
       "4        M1H  Scarborough                                 Cedarbrae"
      ]
     },
     "execution_count": 21,
     "metadata": {},
     "output_type": "execute_result"
    }
   ],
   "source": [
    "# for Neighborhood=\"Not assigned\", make the value the same as Borough\n",
    "for index, row in toronto_df_grouped.iterrows():\n",
    "    if row[\"Neighborhood\"] == \"Not assigned\":\n",
    "        row[\"Neighborhood\"] = row[\"Borough\"]\n",
    "        \n",
    "toronto_df_grouped.head()"
   ]
  },
  {
   "cell_type": "markdown",
   "metadata": {},
   "source": [
    "### 6. Check whether it is the same as required by the question"
   ]
  },
  {
   "cell_type": "code",
   "execution_count": 22,
   "metadata": {},
   "outputs": [
    {
     "data": {
      "text/html": [
       "<div>\n",
       "<style scoped>\n",
       "    .dataframe tbody tr th:only-of-type {\n",
       "        vertical-align: middle;\n",
       "    }\n",
       "\n",
       "    .dataframe tbody tr th {\n",
       "        vertical-align: top;\n",
       "    }\n",
       "\n",
       "    .dataframe thead th {\n",
       "        text-align: right;\n",
       "    }\n",
       "</style>\n",
       "<table border=\"1\" class=\"dataframe\">\n",
       "  <thead>\n",
       "    <tr style=\"text-align: right;\">\n",
       "      <th></th>\n",
       "      <th>PostalCode</th>\n",
       "      <th>Borough</th>\n",
       "      <th>Neighborhood</th>\n",
       "    </tr>\n",
       "  </thead>\n",
       "  <tbody>\n",
       "    <tr>\n",
       "      <th>0</th>\n",
       "      <td>M5G</td>\n",
       "      <td>Downtown Toronto</td>\n",
       "      <td>Central Bay Street</td>\n",
       "    </tr>\n",
       "    <tr>\n",
       "      <th>1</th>\n",
       "      <td>M2H</td>\n",
       "      <td>North York</td>\n",
       "      <td>Hillcrest Village</td>\n",
       "    </tr>\n",
       "    <tr>\n",
       "      <th>2</th>\n",
       "      <td>M4B</td>\n",
       "      <td>East York</td>\n",
       "      <td>Parkview Hill / Woodbine Gardens</td>\n",
       "    </tr>\n",
       "    <tr>\n",
       "      <th>3</th>\n",
       "      <td>M1J</td>\n",
       "      <td>Scarborough</td>\n",
       "      <td>Scarborough Village</td>\n",
       "    </tr>\n",
       "    <tr>\n",
       "      <th>4</th>\n",
       "      <td>M4G</td>\n",
       "      <td>East York</td>\n",
       "      <td>Leaside</td>\n",
       "    </tr>\n",
       "    <tr>\n",
       "      <th>5</th>\n",
       "      <td>M4M</td>\n",
       "      <td>East Toronto</td>\n",
       "      <td>Studio District</td>\n",
       "    </tr>\n",
       "    <tr>\n",
       "      <th>6</th>\n",
       "      <td>M1R</td>\n",
       "      <td>Scarborough</td>\n",
       "      <td>Wexford / Maryvale</td>\n",
       "    </tr>\n",
       "    <tr>\n",
       "      <th>7</th>\n",
       "      <td>M9V</td>\n",
       "      <td>Etobicoke</td>\n",
       "      <td>South Steeles / Silverstone / Humbergate / Jam...</td>\n",
       "    </tr>\n",
       "    <tr>\n",
       "      <th>8</th>\n",
       "      <td>M9L</td>\n",
       "      <td>North York</td>\n",
       "      <td>Humber Summit</td>\n",
       "    </tr>\n",
       "    <tr>\n",
       "      <th>9</th>\n",
       "      <td>M5V</td>\n",
       "      <td>Downtown Toronto</td>\n",
       "      <td>CN Tower / King and Spadina / Railway Lands / ...</td>\n",
       "    </tr>\n",
       "    <tr>\n",
       "      <th>10</th>\n",
       "      <td>M1B</td>\n",
       "      <td>Scarborough</td>\n",
       "      <td>Malvern / Rouge</td>\n",
       "    </tr>\n",
       "    <tr>\n",
       "      <th>11</th>\n",
       "      <td>M5A</td>\n",
       "      <td>Downtown Toronto</td>\n",
       "      <td>Regent Park / Harbourfront</td>\n",
       "    </tr>\n",
       "  </tbody>\n",
       "</table>\n",
       "</div>"
      ],
      "text/plain": [
       "   PostalCode           Borough  \\\n",
       "0         M5G  Downtown Toronto   \n",
       "1         M2H        North York   \n",
       "2         M4B         East York   \n",
       "3         M1J       Scarborough   \n",
       "4         M4G         East York   \n",
       "5         M4M      East Toronto   \n",
       "6         M1R       Scarborough   \n",
       "7         M9V         Etobicoke   \n",
       "8         M9L        North York   \n",
       "9         M5V  Downtown Toronto   \n",
       "10        M1B       Scarborough   \n",
       "11        M5A  Downtown Toronto   \n",
       "\n",
       "                                         Neighborhood  \n",
       "0                                  Central Bay Street  \n",
       "1                                   Hillcrest Village  \n",
       "2                    Parkview Hill / Woodbine Gardens  \n",
       "3                                 Scarborough Village  \n",
       "4                                             Leaside  \n",
       "5                                     Studio District  \n",
       "6                                  Wexford / Maryvale  \n",
       "7   South Steeles / Silverstone / Humbergate / Jam...  \n",
       "8                                       Humber Summit  \n",
       "9   CN Tower / King and Spadina / Railway Lands / ...  \n",
       "10                                    Malvern / Rouge  \n",
       "11                         Regent Park / Harbourfront  "
      ]
     },
     "execution_count": 22,
     "metadata": {},
     "output_type": "execute_result"
    }
   ],
   "source": [
    "# create a new test dataframe\n",
    "column_names = [\"PostalCode\", \"Borough\", \"Neighborhood\"]\n",
    "test_df = pd.DataFrame(columns=column_names)\n",
    "\n",
    "test_list = [\"M5G\", \"M2H\", \"M4B\", \"M1J\", \"M4G\", \"M4M\", \"M1R\", \"M9V\", \"M9L\", \"M5V\", \"M1B\", \"M5A\"]\n",
    "\n",
    "for postcode in test_list:\n",
    "    test_df = test_df.append(toronto_df_grouped[toronto_df_grouped[\"PostalCode\"]==postcode], ignore_index=True)\n",
    "    \n",
    "test_df"
   ]
  },
  {
   "cell_type": "markdown",
   "metadata": {},
   "source": [
    "### 7. Print the number of rows of the cleaned dataframe"
   ]
  },
  {
   "cell_type": "code",
   "execution_count": 23,
   "metadata": {},
   "outputs": [
    {
     "data": {
      "text/plain": [
       "(103, 3)"
      ]
     },
     "execution_count": 23,
     "metadata": {},
     "output_type": "execute_result"
    }
   ],
   "source": [
    "# print the number of rows of the cleaned dataframe\n",
    "toronto_df_grouped.shape"
   ]
  },
  {
   "cell_type": "markdown",
   "metadata": {},
   "source": [
    "### 8. Load the coordinates from the csv file on Coursera"
   ]
  },
  {
   "cell_type": "code",
   "execution_count": 24,
   "metadata": {},
   "outputs": [
    {
     "data": {
      "text/html": [
       "<div>\n",
       "<style scoped>\n",
       "    .dataframe tbody tr th:only-of-type {\n",
       "        vertical-align: middle;\n",
       "    }\n",
       "\n",
       "    .dataframe tbody tr th {\n",
       "        vertical-align: top;\n",
       "    }\n",
       "\n",
       "    .dataframe thead th {\n",
       "        text-align: right;\n",
       "    }\n",
       "</style>\n",
       "<table border=\"1\" class=\"dataframe\">\n",
       "  <thead>\n",
       "    <tr style=\"text-align: right;\">\n",
       "      <th></th>\n",
       "      <th>Postal Code</th>\n",
       "      <th>Latitude</th>\n",
       "      <th>Longitude</th>\n",
       "    </tr>\n",
       "  </thead>\n",
       "  <tbody>\n",
       "    <tr>\n",
       "      <th>0</th>\n",
       "      <td>M1B</td>\n",
       "      <td>43.806686</td>\n",
       "      <td>-79.194353</td>\n",
       "    </tr>\n",
       "    <tr>\n",
       "      <th>1</th>\n",
       "      <td>M1C</td>\n",
       "      <td>43.784535</td>\n",
       "      <td>-79.160497</td>\n",
       "    </tr>\n",
       "    <tr>\n",
       "      <th>2</th>\n",
       "      <td>M1E</td>\n",
       "      <td>43.763573</td>\n",
       "      <td>-79.188711</td>\n",
       "    </tr>\n",
       "    <tr>\n",
       "      <th>3</th>\n",
       "      <td>M1G</td>\n",
       "      <td>43.770992</td>\n",
       "      <td>-79.216917</td>\n",
       "    </tr>\n",
       "    <tr>\n",
       "      <th>4</th>\n",
       "      <td>M1H</td>\n",
       "      <td>43.773136</td>\n",
       "      <td>-79.239476</td>\n",
       "    </tr>\n",
       "  </tbody>\n",
       "</table>\n",
       "</div>"
      ],
      "text/plain": [
       "  Postal Code   Latitude  Longitude\n",
       "0         M1B  43.806686 -79.194353\n",
       "1         M1C  43.784535 -79.160497\n",
       "2         M1E  43.763573 -79.188711\n",
       "3         M1G  43.770992 -79.216917\n",
       "4         M1H  43.773136 -79.239476"
      ]
     },
     "execution_count": 24,
     "metadata": {},
     "output_type": "execute_result"
    }
   ],
   "source": [
    "# load the coordinates from the csv file on Coursera\n",
    "coordinates = pd.read_csv(\"Geospatial_Coordinates.csv\")\n",
    "coordinates.head()"
   ]
  },
  {
   "cell_type": "code",
   "execution_count": 25,
   "metadata": {},
   "outputs": [
    {
     "data": {
      "text/html": [
       "<div>\n",
       "<style scoped>\n",
       "    .dataframe tbody tr th:only-of-type {\n",
       "        vertical-align: middle;\n",
       "    }\n",
       "\n",
       "    .dataframe tbody tr th {\n",
       "        vertical-align: top;\n",
       "    }\n",
       "\n",
       "    .dataframe thead th {\n",
       "        text-align: right;\n",
       "    }\n",
       "</style>\n",
       "<table border=\"1\" class=\"dataframe\">\n",
       "  <thead>\n",
       "    <tr style=\"text-align: right;\">\n",
       "      <th></th>\n",
       "      <th>PostalCode</th>\n",
       "      <th>Latitude</th>\n",
       "      <th>Longitude</th>\n",
       "    </tr>\n",
       "  </thead>\n",
       "  <tbody>\n",
       "    <tr>\n",
       "      <th>0</th>\n",
       "      <td>M1B</td>\n",
       "      <td>43.806686</td>\n",
       "      <td>-79.194353</td>\n",
       "    </tr>\n",
       "    <tr>\n",
       "      <th>1</th>\n",
       "      <td>M1C</td>\n",
       "      <td>43.784535</td>\n",
       "      <td>-79.160497</td>\n",
       "    </tr>\n",
       "    <tr>\n",
       "      <th>2</th>\n",
       "      <td>M1E</td>\n",
       "      <td>43.763573</td>\n",
       "      <td>-79.188711</td>\n",
       "    </tr>\n",
       "    <tr>\n",
       "      <th>3</th>\n",
       "      <td>M1G</td>\n",
       "      <td>43.770992</td>\n",
       "      <td>-79.216917</td>\n",
       "    </tr>\n",
       "    <tr>\n",
       "      <th>4</th>\n",
       "      <td>M1H</td>\n",
       "      <td>43.773136</td>\n",
       "      <td>-79.239476</td>\n",
       "    </tr>\n",
       "  </tbody>\n",
       "</table>\n",
       "</div>"
      ],
      "text/plain": [
       "  PostalCode   Latitude  Longitude\n",
       "0        M1B  43.806686 -79.194353\n",
       "1        M1C  43.784535 -79.160497\n",
       "2        M1E  43.763573 -79.188711\n",
       "3        M1G  43.770992 -79.216917\n",
       "4        M1H  43.773136 -79.239476"
      ]
     },
     "execution_count": 25,
     "metadata": {},
     "output_type": "execute_result"
    }
   ],
   "source": [
    "# rename the column \"PostalCode\"\n",
    "coordinates.rename(columns={\"Postal Code\": \"PostalCode\"}, inplace=True)\n",
    "coordinates.head()"
   ]
  },
  {
   "cell_type": "markdown",
   "metadata": {},
   "source": [
    "### 9. Merge two tables to get the coordinates"
   ]
  },
  {
   "cell_type": "code",
   "execution_count": 26,
   "metadata": {},
   "outputs": [
    {
     "data": {
      "text/html": [
       "<div>\n",
       "<style scoped>\n",
       "    .dataframe tbody tr th:only-of-type {\n",
       "        vertical-align: middle;\n",
       "    }\n",
       "\n",
       "    .dataframe tbody tr th {\n",
       "        vertical-align: top;\n",
       "    }\n",
       "\n",
       "    .dataframe thead th {\n",
       "        text-align: right;\n",
       "    }\n",
       "</style>\n",
       "<table border=\"1\" class=\"dataframe\">\n",
       "  <thead>\n",
       "    <tr style=\"text-align: right;\">\n",
       "      <th></th>\n",
       "      <th>PostalCode</th>\n",
       "      <th>Borough</th>\n",
       "      <th>Neighborhood</th>\n",
       "      <th>Latitude</th>\n",
       "      <th>Longitude</th>\n",
       "    </tr>\n",
       "  </thead>\n",
       "  <tbody>\n",
       "    <tr>\n",
       "      <th>0</th>\n",
       "      <td>M1B</td>\n",
       "      <td>Scarborough</td>\n",
       "      <td>Malvern / Rouge</td>\n",
       "      <td>43.806686</td>\n",
       "      <td>-79.194353</td>\n",
       "    </tr>\n",
       "    <tr>\n",
       "      <th>1</th>\n",
       "      <td>M1C</td>\n",
       "      <td>Scarborough</td>\n",
       "      <td>Rouge Hill / Port Union / Highland Creek</td>\n",
       "      <td>43.784535</td>\n",
       "      <td>-79.160497</td>\n",
       "    </tr>\n",
       "    <tr>\n",
       "      <th>2</th>\n",
       "      <td>M1E</td>\n",
       "      <td>Scarborough</td>\n",
       "      <td>Guildwood / Morningside / West Hill</td>\n",
       "      <td>43.763573</td>\n",
       "      <td>-79.188711</td>\n",
       "    </tr>\n",
       "    <tr>\n",
       "      <th>3</th>\n",
       "      <td>M1G</td>\n",
       "      <td>Scarborough</td>\n",
       "      <td>Woburn</td>\n",
       "      <td>43.770992</td>\n",
       "      <td>-79.216917</td>\n",
       "    </tr>\n",
       "    <tr>\n",
       "      <th>4</th>\n",
       "      <td>M1H</td>\n",
       "      <td>Scarborough</td>\n",
       "      <td>Cedarbrae</td>\n",
       "      <td>43.773136</td>\n",
       "      <td>-79.239476</td>\n",
       "    </tr>\n",
       "  </tbody>\n",
       "</table>\n",
       "</div>"
      ],
      "text/plain": [
       "  PostalCode      Borough                              Neighborhood  \\\n",
       "0        M1B  Scarborough                           Malvern / Rouge   \n",
       "1        M1C  Scarborough  Rouge Hill / Port Union / Highland Creek   \n",
       "2        M1E  Scarborough       Guildwood / Morningside / West Hill   \n",
       "3        M1G  Scarborough                                    Woburn   \n",
       "4        M1H  Scarborough                                 Cedarbrae   \n",
       "\n",
       "    Latitude  Longitude  \n",
       "0  43.806686 -79.194353  \n",
       "1  43.784535 -79.160497  \n",
       "2  43.763573 -79.188711  \n",
       "3  43.770992 -79.216917  \n",
       "4  43.773136 -79.239476  "
      ]
     },
     "execution_count": 26,
     "metadata": {},
     "output_type": "execute_result"
    }
   ],
   "source": [
    "# merge two table on the column \"PostalCode\"\n",
    "toronto_df_new = toronto_df_grouped.merge(coordinates, on=\"PostalCode\", how=\"left\")\n",
    "toronto_df_new.head()"
   ]
  },
  {
   "cell_type": "markdown",
   "metadata": {},
   "source": [
    "### 10. Finally, check to make sure the coordinates are added as required by the question"
   ]
  },
  {
   "cell_type": "code",
   "execution_count": 27,
   "metadata": {},
   "outputs": [
    {
     "data": {
      "text/html": [
       "<div>\n",
       "<style scoped>\n",
       "    .dataframe tbody tr th:only-of-type {\n",
       "        vertical-align: middle;\n",
       "    }\n",
       "\n",
       "    .dataframe tbody tr th {\n",
       "        vertical-align: top;\n",
       "    }\n",
       "\n",
       "    .dataframe thead th {\n",
       "        text-align: right;\n",
       "    }\n",
       "</style>\n",
       "<table border=\"1\" class=\"dataframe\">\n",
       "  <thead>\n",
       "    <tr style=\"text-align: right;\">\n",
       "      <th></th>\n",
       "      <th>PostalCode</th>\n",
       "      <th>Borough</th>\n",
       "      <th>Neighborhood</th>\n",
       "      <th>Latitude</th>\n",
       "      <th>Longitude</th>\n",
       "    </tr>\n",
       "  </thead>\n",
       "  <tbody>\n",
       "    <tr>\n",
       "      <th>0</th>\n",
       "      <td>M5G</td>\n",
       "      <td>Downtown Toronto</td>\n",
       "      <td>Central Bay Street</td>\n",
       "      <td>43.657952</td>\n",
       "      <td>-79.387383</td>\n",
       "    </tr>\n",
       "    <tr>\n",
       "      <th>1</th>\n",
       "      <td>M2H</td>\n",
       "      <td>North York</td>\n",
       "      <td>Hillcrest Village</td>\n",
       "      <td>43.803762</td>\n",
       "      <td>-79.363452</td>\n",
       "    </tr>\n",
       "    <tr>\n",
       "      <th>2</th>\n",
       "      <td>M4B</td>\n",
       "      <td>East York</td>\n",
       "      <td>Parkview Hill / Woodbine Gardens</td>\n",
       "      <td>43.706397</td>\n",
       "      <td>-79.309937</td>\n",
       "    </tr>\n",
       "    <tr>\n",
       "      <th>3</th>\n",
       "      <td>M1J</td>\n",
       "      <td>Scarborough</td>\n",
       "      <td>Scarborough Village</td>\n",
       "      <td>43.744734</td>\n",
       "      <td>-79.239476</td>\n",
       "    </tr>\n",
       "    <tr>\n",
       "      <th>4</th>\n",
       "      <td>M4G</td>\n",
       "      <td>East York</td>\n",
       "      <td>Leaside</td>\n",
       "      <td>43.709060</td>\n",
       "      <td>-79.363452</td>\n",
       "    </tr>\n",
       "    <tr>\n",
       "      <th>5</th>\n",
       "      <td>M4M</td>\n",
       "      <td>East Toronto</td>\n",
       "      <td>Studio District</td>\n",
       "      <td>43.659526</td>\n",
       "      <td>-79.340923</td>\n",
       "    </tr>\n",
       "    <tr>\n",
       "      <th>6</th>\n",
       "      <td>M1R</td>\n",
       "      <td>Scarborough</td>\n",
       "      <td>Wexford / Maryvale</td>\n",
       "      <td>43.750072</td>\n",
       "      <td>-79.295849</td>\n",
       "    </tr>\n",
       "    <tr>\n",
       "      <th>7</th>\n",
       "      <td>M9V</td>\n",
       "      <td>Etobicoke</td>\n",
       "      <td>South Steeles / Silverstone / Humbergate / Jam...</td>\n",
       "      <td>43.739416</td>\n",
       "      <td>-79.588437</td>\n",
       "    </tr>\n",
       "    <tr>\n",
       "      <th>8</th>\n",
       "      <td>M9L</td>\n",
       "      <td>North York</td>\n",
       "      <td>Humber Summit</td>\n",
       "      <td>43.756303</td>\n",
       "      <td>-79.565963</td>\n",
       "    </tr>\n",
       "    <tr>\n",
       "      <th>9</th>\n",
       "      <td>M5V</td>\n",
       "      <td>Downtown Toronto</td>\n",
       "      <td>CN Tower / King and Spadina / Railway Lands / ...</td>\n",
       "      <td>43.628947</td>\n",
       "      <td>-79.394420</td>\n",
       "    </tr>\n",
       "    <tr>\n",
       "      <th>10</th>\n",
       "      <td>M1B</td>\n",
       "      <td>Scarborough</td>\n",
       "      <td>Malvern / Rouge</td>\n",
       "      <td>43.806686</td>\n",
       "      <td>-79.194353</td>\n",
       "    </tr>\n",
       "    <tr>\n",
       "      <th>11</th>\n",
       "      <td>M5A</td>\n",
       "      <td>Downtown Toronto</td>\n",
       "      <td>Regent Park / Harbourfront</td>\n",
       "      <td>43.654260</td>\n",
       "      <td>-79.360636</td>\n",
       "    </tr>\n",
       "  </tbody>\n",
       "</table>\n",
       "</div>"
      ],
      "text/plain": [
       "   PostalCode           Borough  \\\n",
       "0         M5G  Downtown Toronto   \n",
       "1         M2H        North York   \n",
       "2         M4B         East York   \n",
       "3         M1J       Scarborough   \n",
       "4         M4G         East York   \n",
       "5         M4M      East Toronto   \n",
       "6         M1R       Scarborough   \n",
       "7         M9V         Etobicoke   \n",
       "8         M9L        North York   \n",
       "9         M5V  Downtown Toronto   \n",
       "10        M1B       Scarborough   \n",
       "11        M5A  Downtown Toronto   \n",
       "\n",
       "                                         Neighborhood   Latitude  Longitude  \n",
       "0                                  Central Bay Street  43.657952 -79.387383  \n",
       "1                                   Hillcrest Village  43.803762 -79.363452  \n",
       "2                    Parkview Hill / Woodbine Gardens  43.706397 -79.309937  \n",
       "3                                 Scarborough Village  43.744734 -79.239476  \n",
       "4                                             Leaside  43.709060 -79.363452  \n",
       "5                                     Studio District  43.659526 -79.340923  \n",
       "6                                  Wexford / Maryvale  43.750072 -79.295849  \n",
       "7   South Steeles / Silverstone / Humbergate / Jam...  43.739416 -79.588437  \n",
       "8                                       Humber Summit  43.756303 -79.565963  \n",
       "9   CN Tower / King and Spadina / Railway Lands / ...  43.628947 -79.394420  \n",
       "10                                    Malvern / Rouge  43.806686 -79.194353  \n",
       "11                         Regent Park / Harbourfront  43.654260 -79.360636  "
      ]
     },
     "execution_count": 27,
     "metadata": {},
     "output_type": "execute_result"
    }
   ],
   "source": [
    "# create a new test dataframe\n",
    "column_names = [\"PostalCode\", \"Borough\", \"Neighborhood\", \"Latitude\", \"Longitude\"]\n",
    "test_df = pd.DataFrame(columns=column_names)\n",
    "\n",
    "test_list = [\"M5G\", \"M2H\", \"M4B\", \"M1J\", \"M4G\", \"M4M\", \"M1R\", \"M9V\", \"M9L\", \"M5V\", \"M1B\", \"M5A\"]\n",
    "\n",
    "for postcode in test_list:\n",
    "    test_df = test_df.append(toronto_df_new[toronto_df_new[\"PostalCode\"]==postcode], ignore_index=True)\n",
    "    \n",
    "test_df"
   ]
  },
  {
   "cell_type": "markdown",
   "metadata": {},
   "source": [
    "### 11. Use geopy library to get the latitude and longitude values of Toronto"
   ]
  },
  {
   "cell_type": "code",
   "execution_count": 28,
   "metadata": {},
   "outputs": [
    {
     "name": "stdout",
     "output_type": "stream",
     "text": [
      "The geograpical coordinate of Toronto are 43.6534817, -79.3839347.\n"
     ]
    }
   ],
   "source": [
    "address = 'Toronto'\n",
    "\n",
    "geolocator = Nominatim(user_agent=\"my-application\")\n",
    "location = geolocator.geocode(address)\n",
    "latitude = location.latitude\n",
    "longitude = location.longitude\n",
    "print('The geograpical coordinate of Toronto are {}, {}.'.format(latitude, longitude))"
   ]
  },
  {
   "cell_type": "markdown",
   "metadata": {},
   "source": [
    "### 12. Create a map of Toronto with neighborhoods superimposed on top"
   ]
  },
  {
   "cell_type": "code",
   "execution_count": 29,
   "metadata": {},
   "outputs": [
    {
     "data": {
      "text/html": [
       "<div style=\"width:100%;\"><div style=\"position:relative;width:100%;height:0;padding-bottom:60%;\"><iframe src=\"about:blank\" style=\"position:absolute;width:100%;height:100%;left:0;top:0;border:none !important;\" data-html=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 onload=\"this.contentDocument.open();this.contentDocument.write(atob(this.getAttribute('data-html')));this.contentDocument.close();\" allowfullscreen webkitallowfullscreen mozallowfullscreen></iframe></div></div>"
      ],
      "text/plain": [
       "<folium.folium.Map at 0x2b227e112b0>"
      ]
     },
     "execution_count": 29,
     "metadata": {},
     "output_type": "execute_result"
    }
   ],
   "source": [
    "# create map of Toronto using latitude and longitude values\n",
    "map_toronto = folium.Map(location=[latitude, longitude], zoom_start=10)\n",
    "\n",
    "# add markers to map\n",
    "for lat, lng, borough, neighborhood in zip(toronto_df_new['Latitude'], toronto_df_new['Longitude'], toronto_df_new['Borough'], toronto_df_new['Neighborhood']):\n",
    "    label = '{}, {}'.format(neighborhood, borough)\n",
    "    label = folium.Popup(label, parse_html=True)\n",
    "    folium.CircleMarker(\n",
    "        [lat, lng],\n",
    "        radius=5,\n",
    "        popup=label,\n",
    "        color='blue',\n",
    "        fill=True,\n",
    "        fill_color='#3186cc',\n",
    "        fill_opacity=0.7).add_to(map_toronto)  \n",
    "    \n",
    "map_toronto "
   ]
  },
  {
   "cell_type": "markdown",
   "metadata": {},
   "source": [
    "### 13. Filter only boroughs that contain the word Toronto "
   ]
  },
  {
   "cell_type": "code",
   "execution_count": 30,
   "metadata": {},
   "outputs": [
    {
     "data": {
      "text/plain": [
       "['East Toronto', 'Central Toronto', 'Downtown Toronto', 'West Toronto']"
      ]
     },
     "execution_count": 30,
     "metadata": {},
     "output_type": "execute_result"
    }
   ],
   "source": [
    "# filter borough names that contain the word Toronto\n",
    "borough_names = list(toronto_df_new.Borough.unique())\n",
    "\n",
    "borough_with_toronto = []\n",
    "\n",
    "for x in borough_names:\n",
    "    if \"toronto\" in x.lower():\n",
    "        borough_with_toronto.append(x)\n",
    "        \n",
    "borough_with_toronto"
   ]
  },
  {
   "cell_type": "code",
   "execution_count": 31,
   "metadata": {},
   "outputs": [
    {
     "name": "stdout",
     "output_type": "stream",
     "text": [
      "(39, 5)\n"
     ]
    },
    {
     "data": {
      "text/html": [
       "<div>\n",
       "<style scoped>\n",
       "    .dataframe tbody tr th:only-of-type {\n",
       "        vertical-align: middle;\n",
       "    }\n",
       "\n",
       "    .dataframe tbody tr th {\n",
       "        vertical-align: top;\n",
       "    }\n",
       "\n",
       "    .dataframe thead th {\n",
       "        text-align: right;\n",
       "    }\n",
       "</style>\n",
       "<table border=\"1\" class=\"dataframe\">\n",
       "  <thead>\n",
       "    <tr style=\"text-align: right;\">\n",
       "      <th></th>\n",
       "      <th>PostalCode</th>\n",
       "      <th>Borough</th>\n",
       "      <th>Neighborhood</th>\n",
       "      <th>Latitude</th>\n",
       "      <th>Longitude</th>\n",
       "    </tr>\n",
       "  </thead>\n",
       "  <tbody>\n",
       "    <tr>\n",
       "      <th>0</th>\n",
       "      <td>M4E</td>\n",
       "      <td>East Toronto</td>\n",
       "      <td>The Beaches</td>\n",
       "      <td>43.676357</td>\n",
       "      <td>-79.293031</td>\n",
       "    </tr>\n",
       "    <tr>\n",
       "      <th>1</th>\n",
       "      <td>M4K</td>\n",
       "      <td>East Toronto</td>\n",
       "      <td>The Danforth West / Riverdale</td>\n",
       "      <td>43.679557</td>\n",
       "      <td>-79.352188</td>\n",
       "    </tr>\n",
       "    <tr>\n",
       "      <th>2</th>\n",
       "      <td>M4L</td>\n",
       "      <td>East Toronto</td>\n",
       "      <td>India Bazaar / The Beaches West</td>\n",
       "      <td>43.668999</td>\n",
       "      <td>-79.315572</td>\n",
       "    </tr>\n",
       "    <tr>\n",
       "      <th>3</th>\n",
       "      <td>M4M</td>\n",
       "      <td>East Toronto</td>\n",
       "      <td>Studio District</td>\n",
       "      <td>43.659526</td>\n",
       "      <td>-79.340923</td>\n",
       "    </tr>\n",
       "    <tr>\n",
       "      <th>4</th>\n",
       "      <td>M4N</td>\n",
       "      <td>Central Toronto</td>\n",
       "      <td>Lawrence Park</td>\n",
       "      <td>43.728020</td>\n",
       "      <td>-79.388790</td>\n",
       "    </tr>\n",
       "  </tbody>\n",
       "</table>\n",
       "</div>"
      ],
      "text/plain": [
       "  PostalCode          Borough                     Neighborhood   Latitude  \\\n",
       "0        M4E     East Toronto                      The Beaches  43.676357   \n",
       "1        M4K     East Toronto    The Danforth West / Riverdale  43.679557   \n",
       "2        M4L     East Toronto  India Bazaar / The Beaches West  43.668999   \n",
       "3        M4M     East Toronto                  Studio District  43.659526   \n",
       "4        M4N  Central Toronto                    Lawrence Park  43.728020   \n",
       "\n",
       "   Longitude  \n",
       "0 -79.293031  \n",
       "1 -79.352188  \n",
       "2 -79.315572  \n",
       "3 -79.340923  \n",
       "4 -79.388790  "
      ]
     },
     "execution_count": 31,
     "metadata": {},
     "output_type": "execute_result"
    }
   ],
   "source": [
    "# create a new DataFrame with only boroughs that contain the word Toronto\n",
    "toronto_df_new = toronto_df_new[toronto_df_new['Borough'].isin(borough_with_toronto)].reset_index(drop=True)\n",
    "print(toronto_df_new.shape)\n",
    "toronto_df_new.head()"
   ]
  },
  {
   "cell_type": "code",
   "execution_count": 32,
   "metadata": {},
   "outputs": [
    {
     "data": {
      "text/html": [
       "<div style=\"width:100%;\"><div style=\"position:relative;width:100%;height:0;padding-bottom:60%;\"><iframe src=\"about:blank\" style=\"position:absolute;width:100%;height:100%;left:0;top:0;border:none !important;\" data-html=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 onload=\"this.contentDocument.open();this.contentDocument.write(atob(this.getAttribute('data-html')));this.contentDocument.close();\" allowfullscreen webkitallowfullscreen mozallowfullscreen></iframe></div></div>"
      ],
      "text/plain": [
       "<folium.folium.Map at 0x2b227f2e160>"
      ]
     },
     "execution_count": 32,
     "metadata": {},
     "output_type": "execute_result"
    }
   ],
   "source": [
    "# create map of Toronto using latitude and longitude values\n",
    "map_toronto = folium.Map(location=[latitude, longitude], zoom_start=10)\n",
    "\n",
    "# add markers to map\n",
    "for lat, lng, borough, neighborhood in zip(toronto_df_new['Latitude'], toronto_df_new['Longitude'], toronto_df_new['Borough'], toronto_df_new['Neighborhood']):\n",
    "    label = '{}, {}'.format(neighborhood, borough)\n",
    "    label = folium.Popup(label, parse_html=True)\n",
    "    folium.CircleMarker(\n",
    "        [lat, lng],\n",
    "        radius=5,\n",
    "        popup=label,\n",
    "        color='blue',\n",
    "        fill=True,\n",
    "        fill_color='#3186cc',\n",
    "        fill_opacity=0.7).add_to(map_toronto)  \n",
    "    \n",
    "map_toronto "
   ]
  },
  {
   "cell_type": "markdown",
   "metadata": {},
   "source": [
    "### 14. Use the Foursquare API to explore the neighborhoods"
   ]
  },
  {
   "cell_type": "code",
   "execution_count": 33,
   "metadata": {},
   "outputs": [
    {
     "name": "stdout",
     "output_type": "stream",
     "text": [
      "Your credentails:\n",
      "CLIENT_ID: LFEXSKKXKREMPGB5L5L2NKA0U1LCMLDEV5HIMLI5RXPOWPD0\n",
      "CLIENT_SECRET:1N0HVQJ3XB3GQJH0ABA5TLLBTPHM4P4MUGUDYA3HQUGWUYVW\n"
     ]
    }
   ],
   "source": [
    "\n",
    "# define Foursquare Credentials and Version\n",
    "CLIENT_ID = 'LFEXSKKXKREMPGB5L5L2NKA0U1LCMLDEV5HIMLI5RXPOWPD0' # your Foursquare ID\n",
    "CLIENT_SECRET = '1N0HVQJ3XB3GQJH0ABA5TLLBTPHM4P4MUGUDYA3HQUGWUYVW' # your Foursquare Secret\n",
    "VERSION = '20180605' # Foursquare API version\n",
    "\n",
    "print('Your credentails:')\n",
    "print('CLIENT_ID: ' + CLIENT_ID)\n",
    "print('CLIENT_SECRET:' + CLIENT_SECRET)"
   ]
  },
  {
   "cell_type": "markdown",
   "metadata": {},
   "source": [
    "**Now, let's get the top 100 venues that are within a radius of 500 meters.**"
   ]
  },
  {
   "cell_type": "code",
   "execution_count": null,
   "metadata": {},
   "outputs": [],
   "source": [
    "radius = 500\n",
    "LIMIT = 100\n",
    "\n",
    "venues = []\n",
    "\n",
    "for lat, long, post, borough, neighborhood in zip(toronto_df_new['Latitude'], toronto_df_new['Longitude'], toronto_df_new['PostalCode'], toronto_df_new['Borough'], toronto_df_new['Neighborhood']):\n",
    "    url = \"https://api.foursquare.com/v2/venues/explore?client_id={}&client_secret={}&v={}&ll={},{}&radius={}&limit={}\".format(\n",
    "        CLIENT_ID,\n",
    "        CLIENT_SECRET,\n",
    "        VERSION,\n",
    "        lat,\n",
    "        long,\n",
    "        radius, \n",
    "        LIMIT)\n",
    "    \n",
    "    results = requests.get(url).json()[\"response\"]['groups'][0]['items']\n",
    "    \n",
    "    for venue in results:\n",
    "        venues.append((\n",
    "            post, \n",
    "            borough,\n",
    "            neighborhood,\n",
    "            lat, \n",
    "            long, \n",
    "            venue['venue']['name'], \n",
    "            venue['venue']['location']['lat'], \n",
    "            venue['venue']['location']['lng'],  \n",
    "            venue['venue']['categories'][0]['name']))"
   ]
  },
  {
   "cell_type": "code",
   "execution_count": null,
   "metadata": {},
   "outputs": [],
   "source": [
    "# convert the venues list into a new DataFrame\n",
    "venues_df = pd.DataFrame(venues)\n",
    "\n",
    "# define the column names\n",
    "venues_df.columns = ['PostalCode', 'Borough', 'Neighborhood', 'BoroughLatitude', 'BoroughLongitude', 'VenueName', 'VenueLatitude', 'VenueLongitude', 'VenueCategory']\n",
    "\n",
    "print(venues_df.shape)\n",
    "venues_df.head()"
   ]
  },
  {
   "cell_type": "markdown",
   "metadata": {},
   "source": [
    "**Let's check how many venues were returned for each PostalCode**"
   ]
  },
  {
   "cell_type": "code",
   "execution_count": null,
   "metadata": {},
   "outputs": [],
   "source": [
    "venues_df.groupby([\"PostalCode\", \"Borough\", \"Neighborhood\"]).count()"
   ]
  },
  {
   "cell_type": "markdown",
   "metadata": {},
   "source": [
    "**Let's find out how many unique categories can be curated from all the returned venues**"
   ]
  },
  {
   "cell_type": "code",
   "execution_count": null,
   "metadata": {},
   "outputs": [],
   "source": [
    "print('There are {} uniques categories.'.format(len(venues_df['VenueCategory'].unique())))"
   ]
  },
  {
   "cell_type": "code",
   "execution_count": null,
   "metadata": {},
   "outputs": [],
   "source": [
    "venues_df['VenueCategory'].unique()[:50]"
   ]
  },
  {
   "cell_type": "markdown",
   "metadata": {},
   "source": [
    "### 15. Analyze Each Area"
   ]
  },
  {
   "cell_type": "code",
   "execution_count": null,
   "metadata": {},
   "outputs": [],
   "source": [
    "# one hot encoding\n",
    "toronto_onehot = pd.get_dummies(venues_df[['VenueCategory']], prefix=\"\", prefix_sep=\"\")\n",
    "\n",
    "# add postal, borough and neighborhood column back to dataframe\n",
    "toronto_onehot['PostalCode'] = venues_df['PostalCode'] \n",
    "toronto_onehot['Borough'] = venues_df['Borough'] \n",
    "toronto_onehot['Neighborhoods'] = venues_df['Neighborhood'] \n",
    "\n",
    "# move postal, borough and neighborhood column to the first column\n",
    "fixed_columns = list(toronto_onehot.columns[-3:]) + list(toronto_onehot.columns[:-3])\n",
    "toronto_onehot = toronto_onehot[fixed_columns]\n",
    "\n",
    "print(toronto_onehot.shape)\n",
    "toronto_onehot.head()"
   ]
  },
  {
   "cell_type": "markdown",
   "metadata": {},
   "source": [
    "**Next, let's group rows by neighborhood and by taking the mean of the frequency of occurrence of each category**"
   ]
  },
  {
   "cell_type": "code",
   "execution_count": null,
   "metadata": {},
   "outputs": [],
   "source": [
    "toronto_grouped = toronto_onehot.groupby([\"PostalCode\", \"Borough\", \"Neighborhoods\"]).mean().reset_index()\n",
    "\n",
    "print(toronto_grouped.shape)\n",
    "toronto_grouped"
   ]
  },
  {
   "cell_type": "markdown",
   "metadata": {},
   "source": [
    "Now let's create the new dataframe and display the top 10 venues for each PostalCode."
   ]
  },
  {
   "cell_type": "code",
   "execution_count": null,
   "metadata": {},
   "outputs": [],
   "source": [
    "num_top_venues = 10\n",
    "\n",
    "indicators = ['st', 'nd', 'rd']\n",
    "\n",
    "# create columns according to number of top venues\n",
    "areaColumns = ['PostalCode', 'Borough', 'Neighborhoods']\n",
    "freqColumns = []\n",
    "for ind in np.arange(num_top_venues):\n",
    "    try:\n",
    "        freqColumns.append('{}{} Most Common Venue'.format(ind+1, indicators[ind]))\n",
    "    except:\n",
    "        freqColumns.append('{}th Most Common Venue'.format(ind+1))\n",
    "columns = areaColumns+freqColumns\n",
    "\n",
    "# create a new dataframe\n",
    "neighborhoods_venues_sorted = pd.DataFrame(columns=columns)\n",
    "neighborhoods_venues_sorted['PostalCode'] = toronto_grouped['PostalCode']\n",
    "neighborhoods_venues_sorted['Borough'] = toronto_grouped['Borough']\n",
    "neighborhoods_venues_sorted['Neighborhoods'] = toronto_grouped['Neighborhoods']\n",
    "\n",
    "for ind in np.arange(toronto_grouped.shape[0]):\n",
    "    row_categories = toronto_grouped.iloc[ind, :].iloc[3:]\n",
    "    row_categories_sorted = row_categories.sort_values(ascending=False)\n",
    "    neighborhoods_venues_sorted.iloc[ind, 3:] = row_categories_sorted.index.values[0:num_top_venues]\n",
    "\n",
    "# neighborhoods_venues_sorted.sort_values(freqColumns, inplace=True)\n",
    "print(neighborhoods_venues_sorted.shape)\n",
    "neighborhoods_venues_sorted"
   ]
  },
  {
   "cell_type": "markdown",
   "metadata": {},
   "source": [
    "### 16. Cluster Areas\n",
    "Run k-means to cluster the Toronto areas into 5 clusters."
   ]
  },
  {
   "cell_type": "code",
   "execution_count": null,
   "metadata": {},
   "outputs": [],
   "source": [
    "# set number of clusters\n",
    "kclusters = 5\n",
    "\n",
    "toronto_grouped_clustering = toronto_grouped.drop([\"PostalCode\", \"Borough\", \"Neighborhoods\"], 1)\n",
    "\n",
    "# run k-means clustering\n",
    "kmeans = KMeans(n_clusters=kclusters, random_state=0).fit(toronto_grouped_clustering)\n",
    "\n",
    "# check cluster labels generated for each row in the dataframe\n",
    "kmeans.labels_[0:10] "
   ]
  },
  {
   "cell_type": "code",
   "execution_count": null,
   "metadata": {},
   "outputs": [],
   "source": [
    "# create a new dataframe that includes the cluster as well as the top 10 venues for each neighborhood.\n",
    "toronto_merged = toronto_df_new.copy()\n",
    "\n",
    "# add clustering labels\n",
    "toronto_merged[\"Cluster Labels\"] = kmeans.labels_\n",
    "\n",
    "# merge toronto_grouped with toronto_data to add latitude/longitude for each neighborhood\n",
    "toronto_merged = toronto_merged.join(neighborhoods_venues_sorted.drop([\"Borough\", \"Neighborhoods\"], 1).set_index(\"PostalCode\"), on=\"PostalCode\")\n",
    "\n",
    "print(toronto_merged.shape)\n",
    "toronto_merged.head() # check the last columns!"
   ]
  },
  {
   "cell_type": "code",
   "execution_count": null,
   "metadata": {},
   "outputs": [],
   "source": [
    "# sort the results by Cluster Labels\n",
    "print(toronto_merged.shape)\n",
    "toronto_merged.sort_values([\"Cluster Labels\"], inplace=True)\n",
    "toronto_merged"
   ]
  },
  {
   "cell_type": "markdown",
   "metadata": {},
   "source": [
    "**Finally, let's visualize the resulting clusters**"
   ]
  },
  {
   "cell_type": "code",
   "execution_count": null,
   "metadata": {},
   "outputs": [],
   "source": [
    "# create map\n",
    "map_clusters = folium.Map(location=[latitude, longitude], zoom_start=11)\n",
    "\n",
    "# set color scheme for the clusters\n",
    "x = np.arange(kclusters)\n",
    "ys = [i+x+(i*x)**2 for i in range(kclusters)]\n",
    "colors_array = cm.rainbow(np.linspace(0, 1, len(ys)))\n",
    "rainbow = [colors.rgb2hex(i) for i in colors_array]\n",
    "\n",
    "# add markers to the map\n",
    "markers_colors = []\n",
    "for lat, lon, post, bor, poi, cluster in zip(toronto_merged['Latitude'], toronto_merged['Longitude'], toronto_merged['PostalCode'], toronto_merged['Borough'], toronto_merged['Neighborhood'], toronto_merged['Cluster Labels']):\n",
    "    label = folium.Popup('{} ({}): {} - Cluster {}'.format(bor, post, poi, cluster), parse_html=True)\n",
    "    folium.CircleMarker(\n",
    "        [lat, lon],\n",
    "        radius=5,\n",
    "        popup=label,\n",
    "        color=rainbow[cluster-1],\n",
    "        fill=True,\n",
    "        fill_color=rainbow[cluster-1],\n",
    "        fill_opacity=0.7).add_to(map_clusters)\n",
    "       \n",
    "map_clusters"
   ]
  },
  {
   "cell_type": "markdown",
   "metadata": {},
   "source": [
    "### 17. Examine Clusters"
   ]
  },
  {
   "cell_type": "markdown",
   "metadata": {},
   "source": [
    "#### Cluster 1"
   ]
  },
  {
   "cell_type": "code",
   "execution_count": null,
   "metadata": {},
   "outputs": [],
   "source": [
    "toronto_merged.loc[toronto_merged['Cluster Labels'] == 0, toronto_merged.columns[[1] + list(range(5, toronto_merged.shape[1]))]]"
   ]
  },
  {
   "cell_type": "markdown",
   "metadata": {},
   "source": [
    "#### Cluster 2"
   ]
  },
  {
   "cell_type": "code",
   "execution_count": null,
   "metadata": {},
   "outputs": [],
   "source": [
    "toronto_merged.loc[toronto_merged['Cluster Labels'] == 1, toronto_merged.columns[[1] + list(range(5, toronto_merged.shape[1]))]]"
   ]
  },
  {
   "cell_type": "markdown",
   "metadata": {},
   "source": [
    "#### Cluster 3"
   ]
  },
  {
   "cell_type": "code",
   "execution_count": null,
   "metadata": {},
   "outputs": [],
   "source": [
    "toronto_merged.loc[toronto_merged['Cluster Labels'] == 2, toronto_merged.columns[[1] + list(range(5, toronto_merged.shape[1]))]]"
   ]
  },
  {
   "cell_type": "markdown",
   "metadata": {},
   "source": [
    "#### Cluster 4"
   ]
  },
  {
   "cell_type": "code",
   "execution_count": null,
   "metadata": {},
   "outputs": [],
   "source": [
    "toronto_merged.loc[toronto_merged['Cluster Labels'] == 3, toronto_merged.columns[[1] + list(range(5, toronto_merged.shape[1]))]]"
   ]
  },
  {
   "cell_type": "markdown",
   "metadata": {},
   "source": [
    "#### Cluster 5"
   ]
  },
  {
   "cell_type": "code",
   "execution_count": null,
   "metadata": {},
   "outputs": [],
   "source": [
    "toronto_merged.loc[toronto_merged['Cluster Labels'] == 4, toronto_merged.columns[[1] + list(range(5, toronto_merged.shape[1]))]]"
   ]
  },
  {
   "cell_type": "markdown",
   "metadata": {},
   "source": [
    "#### Observations:\n",
    "Most of the neighborhoods fall into Cluster 1 which are mostly business areas with cafe, restaurants, supermarkets etc. Cluster 2 is just a garden, Cluster 3 are playground and park, Cluster 4 park and swim school, and lastly Cluster 5 park and trail."
   ]
  },
  {
   "cell_type": "code",
   "execution_count": null,
   "metadata": {},
   "outputs": [],
   "source": []
  },
  {
   "cell_type": "code",
   "execution_count": null,
   "metadata": {},
   "outputs": [],
   "source": []
  }
 ],
 "metadata": {
  "kernelspec": {
   "display_name": "Python 3",
   "language": "python",
   "name": "python3"
  },
  "language_info": {
   "codemirror_mode": {
    "name": "ipython",
    "version": 3
   },
   "file_extension": ".py",
   "mimetype": "text/x-python",
   "name": "python",
   "nbconvert_exporter": "python",
   "pygments_lexer": "ipython3",
   "version": "3.6.5"
  }
 },
 "nbformat": 4,
 "nbformat_minor": 2
}
